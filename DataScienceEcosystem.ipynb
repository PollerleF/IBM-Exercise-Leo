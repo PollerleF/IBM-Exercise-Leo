{
 "cells": [
  {
   "cell_type": "markdown",
   "id": "e56f7640-b71a-4876-989d-0b8c85c7e31d",
   "metadata": {},
   "source": [
    "# Data Science Tools and Ecosystem"
   ]
  },
  {
   "cell_type": "markdown",
   "id": "1fec69b8-12e4-484b-85e4-8c617c21e4d5",
   "metadata": {},
   "source": [
    "In this notebook, Data Science Tools and Ecosystem are summarized."
   ]
  },
  {
   "cell_type": "markdown",
   "id": "efef67f3-5b10-4f8c-bee8-7db04e9e5908",
   "metadata": {},
   "source": [
    "__Objectives:__\n",
    "- List popular languages for data science\n",
    "- List popular libraries for data science\n",
    "- Getting to know Python and the work environment in "
   ]
  },
  {
   "cell_type": "markdown",
   "id": "1c2d1905-a77e-455b-b225-b626511da95e",
   "metadata": {},
   "source": [
    "Some of the popular languages that Data Scientists use are:\n",
    "1. MATLAB\n",
    "2. SQL\n",
    "3. Python \n",
    "4. R"
   ]
  },
  {
   "cell_type": "markdown",
   "id": "3fe74cd0-1892-4b2b-8e48-9a01005ab919",
   "metadata": {},
   "source": [
    "Some of the commonly used libraries used by Data Scientists include:\n",
    "1. NumPy\n",
    "2. TensorFlow\n",
    "3. ggplot2"
   ]
  },
  {
   "cell_type": "markdown",
   "id": "b0a17812-a9b1-4e59-bc90-3de4767014f1",
   "metadata": {},
   "source": [
    "| Data Science Tools |\n",
    "| ------------------ |\n",
    "| JupyterNotebook |\n",
    "| Rstudio |\n",
    "| Spyder |"
   ]
  },
  {
   "cell_type": "markdown",
   "id": "0877dbfb-a7ae-4063-8ba9-be8f5badf5a0",
   "metadata": {},
   "source": [
    "### Below are a few examples of evaluating arithmetic expressions in Python"
   ]
  },
  {
   "cell_type": "code",
   "execution_count": 6,
   "id": "0ee4b58d-8937-4eab-8191-660fd19c4f99",
   "metadata": {},
   "outputs": [
    {
     "data": {
      "text/plain": [
       "17"
      ]
     },
     "execution_count": 6,
     "metadata": {},
     "output_type": "execute_result"
    }
   ],
   "source": [
    "# This a simple arithmetic expression to mutiply then add integers\n",
    "(3*4)+5"
   ]
  },
  {
   "cell_type": "code",
   "execution_count": 7,
   "id": "a51009d9-7540-43ca-9ff5-eee10e5b6915",
   "metadata": {},
   "outputs": [
    {
     "name": "stdout",
     "output_type": "stream",
     "text": [
      "3.3333333333333335\n"
     ]
    }
   ],
   "source": [
    "# This will convert 200 minutes to hours by diving by 60\n",
    "\n",
    "minutes = 200\n",
    "hours = minutes/60\n",
    "print(hours)"
   ]
  },
  {
   "cell_type": "markdown",
   "id": "ce0adcd1-5f49-4631-b302-b7b1037c374a",
   "metadata": {},
   "source": [
    "## Author \n",
    "Leopold Freundorfer"
   ]
  },
  {
   "cell_type": "code",
   "execution_count": null,
   "id": "e8efd218-74df-4e68-b012-a3914e5551be",
   "metadata": {},
   "outputs": [],
   "source": []
  }
 ],
 "metadata": {
  "kernelspec": {
   "display_name": "Python",
   "language": "python",
   "name": "conda-env-python-py"
  },
  "language_info": {
   "codemirror_mode": {
    "name": "ipython",
    "version": 3
   },
   "file_extension": ".py",
   "mimetype": "text/x-python",
   "name": "python",
   "nbconvert_exporter": "python",
   "pygments_lexer": "ipython3",
   "version": "3.7.12"
  }
 },
 "nbformat": 4,
 "nbformat_minor": 5
}
